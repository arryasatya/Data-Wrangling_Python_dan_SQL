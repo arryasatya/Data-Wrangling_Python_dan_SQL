{
 "cells": [
  {
   "cell_type": "markdown",
   "id": "47a7c3ef",
   "metadata": {},
   "source": [
    "> ### Muhammad Aryasatya N (22083010085)"
   ]
  },
  {
   "cell_type": "markdown",
   "id": "4046f949",
   "metadata": {},
   "source": [
    "### 1. Buat Database yang kamu tentukan menggunakan perintah pada python"
   ]
  },
  {
   "cell_type": "code",
   "execution_count": null,
   "id": "9f53ae2e",
   "metadata": {},
   "outputs": [],
   "source": [
    "import sqlite3\n",
    "con = sqlite3.connect(\"pemesanan_makanan.db\", timeout=10)\n",
    "print(\"Database pemesanan_makanan.db berhasil di buat\")\n",
    "\n",
    "con.close()"
   ]
  },
  {
   "cell_type": "markdown",
   "id": "2cc62359",
   "metadata": {},
   "source": [
    "### 2. Buat minimal 2 tabel dan tambahkan data menggunakan perintah pada python"
   ]
  },
  {
   "cell_type": "code",
   "execution_count": null,
   "id": "c3e48011",
   "metadata": {},
   "outputs": [],
   "source": [
    "import sqlite3\n",
    "\n",
    "con = sqlite3. connect (\"pemesanan_makanan.db\", timeout=10)\n",
    "cur = con.cursor ()\n",
    "\n",
    "for row in cur.execute(\"CREATE TABLE Menu (id_menu int, nama_menu varchar(50), deskripsi text, harga int(20), kategori varchar(20))\"):\n",
    "    print (row)\n",
    "    \n",
    "con.commit ()\n",
    "con.close ()"
   ]
  },
  {
   "cell_type": "code",
   "execution_count": null,
   "id": "713fbd05",
   "metadata": {},
   "outputs": [],
   "source": [
    "import sqlite3\n",
    "\n",
    "con = sqlite3.connect(\"pemesanan_makanan.db\", timeout=10)\n",
    "cur = con.cursor()\n",
    "\n",
    "for row in cur.execute(\"CREATE TABLE Pelanggan (id_pelanggan int, nama_pelanggan varchar(50), alamat text, no_telepon integer(20))\"):\n",
    "    print(row)\n",
    "\n",
    "con.commit()\n",
    "con.close()"
   ]
  },
  {
   "cell_type": "code",
   "execution_count": null,
   "id": "19965c6b",
   "metadata": {},
   "outputs": [],
   "source": [
    "import sqlite3\n",
    "\n",
    "con = sqlite3.connect(\"pemesanan_makanan.db\", timeout=10)\n",
    "cur = con.cursor()\n",
    "\n",
    "for row in cur.execute(\"CREATE TABLE Pesanan (id_pesanan int, id_pelanggan int, id_menu int, jumlah_pesanan int\"):\n",
    "    print(row)\n",
    "\n",
    "con.commit()\n",
    "con.close()"
   ]
  },
  {
   "cell_type": "markdown",
   "id": "d1f10e18",
   "metadata": {},
   "source": [
    "#### Menambahkan Data"
   ]
  },
  {
   "cell_type": "code",
   "execution_count": null,
   "id": "21a74b7e",
   "metadata": {},
   "outputs": [],
   "source": [
    "import sqlite3\n",
    "\n",
    "con = sqlite3. connect(\"pemesanan_makanan.db\", timeout=10)\n",
    "cur = con. cursor()\n",
    "\n",
    "for row in cur.execute (\"INSERT INTO Menu VALUES (1, 'Nasi Goreng', 'Sebuah nasi putih yang digoreng jadilah nasi goreng', 20000, 'Makanan')\"):\n",
    "    print(row)\n",
    "for row in cur.execute(\"INSERT INTO Menu VALUES (2, 'Es Teh Hangat', 'Teh hangat dengan tambahan es batu', '5000', 'Minuman')\"):\n",
    "    print(row)\n",
    "    \n",
    "con.commit ()\n",
    "con.close ()"
   ]
  },
  {
   "cell_type": "code",
   "execution_count": null,
   "id": "224b50c6",
   "metadata": {},
   "outputs": [],
   "source": [
    "import sqlite3\n",
    "\n",
    "con = sqlite3. connect(\"pemesanan_makanan.db\", timeout=10)\n",
    "cur = con. cursor()\n",
    "\n",
    "for row in cur.execute (\"INSERT INTO Pelanggan VALUES (1, 'julian', 'Zurich Street 1', 081234567890)\"):\n",
    "    print(row)\n",
    "for row in cur.execute(\"INSERT INTO Pelanggan VALUES (2, 'xavier', 'Davos Street 1', '089876543210')\"):\n",
    "    print(row)\n",
    "    \n",
    "con.commit ()\n",
    "con.close ()"
   ]
  },
  {
   "cell_type": "code",
   "execution_count": null,
   "id": "9f01894c",
   "metadata": {},
   "outputs": [],
   "source": [
    "import sqlite3\n",
    "\n",
    "con = sqlite3. connect(\"pemesanan_makanan.db\", timeout=10)\n",
    "cur = con. cursor()\n",
    "\n",
    "for row in cur.execute (\"INSERT INTO Pesanan VALUES (1, 1, 1, 2)\"):\n",
    "    print(row)\n",
    "for row in cur.execute(\"INSERT INTO Pesanan VALUES (2, 2, 2, 1)\"):\n",
    "    print(row)\n",
    "    \n",
    "con.commit ()\n",
    "con.close ()"
   ]
  },
  {
   "cell_type": "markdown",
   "id": "5e08b1ea",
   "metadata": {},
   "source": [
    "### 3. Lakukan pemutakhiran data pada tabel yang telah dibuat menggunakan perintah pada python"
   ]
  },
  {
   "cell_type": "code",
   "execution_count": null,
   "id": "7e40bc17",
   "metadata": {},
   "outputs": [],
   "source": [
    "import sqlite3\n",
    "\n",
    "con = sqlite3.connect (\"pemesanan_makanan.db\", timeout=10)\n",
    "cur = con. cursor ()\n",
    "\n",
    "for row in cur.execute(\"UPDATE Pelanggan SET nama_pelanggan = 'nana' WHERE id_pelanggan = 1 \"):\n",
    "    print(row)\n",
    "    \n",
    "con. commit()\n",
    "con.close ()"
   ]
  },
  {
   "cell_type": "code",
   "execution_count": null,
   "id": "7b56236d",
   "metadata": {},
   "outputs": [],
   "source": [
    "import sqlite3\n",
    "\n",
    "con = sqlite3. connect (\"pemesanan_makanan.db\", timeout=10)\n",
    "cur = con. cursor ()\n",
    "\n",
    "for row in cur.execute(\"SELECT * FROM Pelanggan\"):\n",
    "    print(row)\n",
    "    \n",
    "con. commit ()\n",
    "con.close ()"
   ]
  },
  {
   "cell_type": "markdown",
   "id": "eb81c4fc",
   "metadata": {},
   "source": [
    "### 4. Pengelompokan data pada tabel yang telah dibuat menggunakan perintah pada python"
   ]
  },
  {
   "cell_type": "code",
   "execution_count": null,
   "id": "100a9485",
   "metadata": {},
   "outputs": [],
   "source": [
    "import sqlite3\n",
    "\n",
    "con = sqlite3.connect (\"pemesanan_makanan.db\", timeout=10)\n",
    "cur = con. cursor ()\n",
    "\n",
    "for row in cur.execute(\"INSERT INTO Menu VALUES (3, 'Ayam Geprek', 'Ayam yang digeprek dengan sambal', 25000, 'Makanan')\"):\n",
    "    print (row)\n",
    "for row in cur.execute(\"INSERT INTO Menu VALUES (4, 'Lemon Tea', 'Teh dengan campuran lemon', 10000, 'Minuman')\"):\n",
    "    print (row)\n",
    "    \n",
    "con.commit ()\n",
    "con. close ()"
   ]
  },
  {
   "cell_type": "code",
   "execution_count": null,
   "id": "bfb3a63b",
   "metadata": {},
   "outputs": [],
   "source": [
    "import sqlite3\n",
    "\n",
    "con = sqlite3.connect(\"pemesanan_makanan.db\", timeout=10)\n",
    "cur = con.cursor()\n",
    "\n",
    "for row in cur.execute(\"INSERT INTO pelanggan VALUES (3, 'Xhaka', 'St. Moritz 50', '081234567890')\"):\n",
    "    print(row)\n",
    "for row in cur.execute(\"INSERT INTO pelanggan VALUES (4, 'Akanji', 'Luzern Street 49', '089876543210')\"):\n",
    "    print(row)\n",
    "    \n",
    "con.commit()\n",
    "con.close()"
   ]
  },
  {
   "cell_type": "code",
   "execution_count": null,
   "id": "6dae2d70",
   "metadata": {},
   "outputs": [],
   "source": [
    "import sqlite3\n",
    "\n",
    "con = sqlite3.connect (\"pemesanan_makanan.db\", timeout=10)\n",
    "cur = con. cursor ()\n",
    "\n",
    "for row in cur.execute(\"INSERT INTO Pesanan VALUES (3, 3, 3, 2)\"):\n",
    "    print (row)\n",
    "for row in cur.execute(\"INSERT INTO Pesanan VALUES (4, 4, 4, 1)\"):\n",
    "    print (row)\n",
    "    \n",
    "con.commit ()\n",
    "con. close ()"
   ]
  },
  {
   "cell_type": "code",
   "execution_count": null,
   "id": "234cd866",
   "metadata": {},
   "outputs": [],
   "source": [
    "import sqlite3\n",
    "\n",
    "con = sqlite3. connect (\"pemesanan_makanan.db\", timeout=10)\n",
    "cur = con.cursor ()\n",
    "\n",
    "for row in cur.execute(\"SELECT * FROM Menu ORDER BY harga DESC\"):\n",
    "    print(row)\n",
    "    \n",
    "con.commit ()\n",
    "con.close ()"
   ]
  },
  {
   "cell_type": "code",
   "execution_count": null,
   "id": "d76b31c8",
   "metadata": {},
   "outputs": [],
   "source": [
    "import sqlite3\n",
    "\n",
    "con = sqlite3. connect (\"pemesanan_makanan.db\", timeout=10)\n",
    "cur = con.cursor ()\n",
    "\n",
    "for row in cur.execute(\"SELECT COUNT (*), nama_pelanggan FROM Pelanggan GROUP BY nama_pelanggan\"):\n",
    "    print(row)\n",
    "    \n",
    "con.commit ()\n",
    "con.close ()"
   ]
  },
  {
   "cell_type": "markdown",
   "id": "2e10472d",
   "metadata": {},
   "source": [
    "### 5. Melakukan join pada data tabel"
   ]
  },
  {
   "cell_type": "code",
   "execution_count": null,
   "id": "170aa245",
   "metadata": {},
   "outputs": [],
   "source": [
    "import sqlite3\n",
    "\n",
    "con = sqlite3.connect(\"pemesanan_makanan.db\", timeout=10)\n",
    "cur = con.cursor()\n",
    "\n",
    "query = \"SELECT Pesanan.id_pesanan, Menu.nama_menu, Pesanan.jumlah_pesanan, Menu.harga, Pesanan.jumlah_pesanan*Menu.harga AS total_harga FROM Pesanan JOIN Menu ON Pesanan.id_menu = Menu.id_menu\"\n",
    "\n",
    "for row in cur.execute(query):\n",
    "    print(row)\n",
    "\n",
    "con.close()\n"
   ]
  },
  {
   "cell_type": "code",
   "execution_count": null,
   "id": "9f565be2",
   "metadata": {},
   "outputs": [],
   "source": [
    "import sqlite3\n",
    "\n",
    "con = sqlite3.connect(\"pemesanan_makanan.db\", timeout=10)\n",
    "cur = con.cursor()\n",
    "\n",
    "query = \"\"\"\n",
    "SELECT Pesanan.id_pesanan, Menu.nama_menu, Pelanggan.nama_pelanggan, Pelanggan.alamat, Pelanggan.no_telepon,\n",
    "       Pesanan.jumlah_pesanan, Menu.harga, Pesanan.jumlah_pesanan*Menu.harga AS total_harga\n",
    "FROM Pesanan \n",
    "JOIN Menu ON Pesanan.id_menu = Menu.id_menu\n",
    "JOIN Pelanggan ON Pesanan.id_pelanggan = Pelanggan.id_pelanggan\n",
    "\"\"\"\n",
    "\n",
    "for row in cur.execute(query):\n",
    "    id_pesanan = row[0]\n",
    "    nama_menu = row[1]\n",
    "    nama_pelanggan = row[2]\n",
    "    alamat = row[3]\n",
    "    no_telepon = row[4]\n",
    "    jumlah_pesanan = row[5]\n",
    "    harga = row[6]\n",
    "    total_harga = row[7]\n",
    "\n",
    "    print(\"ID Pesanan:\", id_pesanan)\n",
    "    print(\"Nama Menu:\", nama_menu)\n",
    "    print(\"Nama Pelanggan:\", nama_pelanggan)\n",
    "    print(\"Alamat:\", alamat)\n",
    "    print(\"Nomor Telepon:\", no_telepon)\n",
    "    print(\"Jumlah Pesanan:\", jumlah_pesanan)\n",
    "    print(\"Harga:\", harga)\n",
    "    print(\"Total Harga:\", total_harga)\n",
    "    print()\n",
    "\n",
    "con.commit()\n",
    "con.close()\n"
   ]
  },
  {
   "cell_type": "code",
   "execution_count": null,
   "id": "949ff966",
   "metadata": {},
   "outputs": [],
   "source": []
  }
 ],
 "metadata": {
  "kernelspec": {
   "display_name": "Python 3 (ipykernel)",
   "language": "python",
   "name": "python3"
  },
  "language_info": {
   "codemirror_mode": {
    "name": "ipython",
    "version": 3
   },
   "file_extension": ".py",
   "mimetype": "text/x-python",
   "name": "python",
   "nbconvert_exporter": "python",
   "pygments_lexer": "ipython3",
   "version": "3.9.12"
  }
 },
 "nbformat": 4,
 "nbformat_minor": 5
}
